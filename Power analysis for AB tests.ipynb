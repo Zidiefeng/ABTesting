{
 "cells": [
  {
   "cell_type": "code",
   "execution_count": 1,
   "metadata": {
    "collapsed": true
   },
   "outputs": [],
   "source": [
    "#!/usr/bin/env python\n",
    "%matplotlib inline"
   ]
  },
  {
   "cell_type": "markdown",
   "metadata": {},
   "source": [
    "\n",
    "## A/B testing\n",
    "### Calculating necessary sample sizes given\n",
    "    null hypothesis\n",
    "    expected effect size\n",
    "    false positive rate\n",
    "    false negative rate.\n"
   ]
  },
  {
   "cell_type": "code",
   "execution_count": 2,
   "metadata": {
    "collapsed": true
   },
   "outputs": [],
   "source": [
    "import numpy as np\n",
    "import matplotlib.pyplot as plt\n",
    "plt.ion()\n",
    "import scipy.stats"
   ]
  },
  {
   "cell_type": "code",
   "execution_count": 3,
   "metadata": {
    "collapsed": false
   },
   "outputs": [
    {
     "name": "stdout",
     "output_type": "stream",
     "text": [
      "1743.48113943 necessary for 5% false positive and 20% false negatives given effect size\n"
     ]
    }
   ],
   "source": [
    "p_a = .05 # assume we have a base click rate of 5% for our original design (A group)\n",
    "p_b = .07 # we want to detect an increase in click rate to 7%, otherwise not worth changing the design\n",
    "\n",
    "p = (p_a + p_b)/2.\n",
    "\n",
    "Z8 = scipy.stats.norm.ppf(.8) # we will need this to ensure 80% power (20% false negative rate)\n",
    "Z95 = scipy.stats.norm.ppf(.95) # we will need this for 5% false positive rate (95% confidence level), one-tailed\n",
    "Z975 = scipy.stats.norm.ppf(.975) # 5% false positive rate for two-tailed case\n",
    "\n",
    "ES = abs(p_b - p_a)/np.sqrt(p*(1-p))\n",
    "\n",
    "num_tails = 1 # presumably we are testing design b because we think it will improve the click rate...\n",
    "\n",
    "if num_tails == 2:\n",
    "    n = 2*((Z975 + Z8)/ES)**2  # two-tailed\n",
    "else:\n",
    "    n = 2*((Z95 + Z8)/ES)**2 # one-tailed\n",
    "\n",
    "print n, 'necessary for 5% false positive and 20% false negatives given effect size'\n",
    "#That's it! We have the sample size necessary given our requirements"
   ]
  },
  {
   "cell_type": "markdown",
   "metadata": {},
   "source": [
    "Let's convince ourselves that we actually meet our specs by simulating two experiments\n",
    "in one the b design results in a minimal improvement (to 7% click rate)\n",
    "in the other (labeled null) there is no change in the click rate."
   ]
  },
  {
   "cell_type": "code",
   "execution_count": 4,
   "metadata": {
    "collapsed": false
   },
   "outputs": [
    {
     "name": "stdout",
     "output_type": "stream",
     "text": [
      "0.197 false negative rate, we expect it to be close to 20%\n",
      "0.0506 false positive rate, we expect it to be close to 5%\n"
     ]
    }
   ],
   "source": [
    "n_a = int(round(n))\n",
    "n_b = int(round(n))\n",
    "\n",
    "num_experiments = 10000\n",
    "\n",
    "conversions_a = np.random.random((n_a, num_experiments)) < p_a\n",
    "conversions_b_null = np.random.random((n_b, num_experiments)) < p_a\n",
    "conversions_b = np.random.random((n_b, num_experiments)) < p_b\n",
    "\n",
    "mean_a = np.mean(conversions_a, axis=0)\n",
    "mean_b_null = np.mean(conversions_b_null, axis=0)\n",
    "mean_b = np.mean(conversions_b, axis=0)\n",
    "\n",
    "#s_a = np.std(conversions_a, ddof=1)\n",
    "#s_b_null = np.std(conversions_b_null, ddof=1)\n",
    "#s_b = np.std(conversions_b, ddof=1)\n",
    "# equivalent:\n",
    "s_a = np.sqrt(np.sum((conversions_a - mean_a[np.newaxis, :])**2, axis=0)/(n_a - 1))\n",
    "s_b_null = np.sqrt(np.sum((conversions_b_null - mean_b_null[np.newaxis, :])**2, axis=0)/(n_b - 1))\n",
    "s_b = np.sqrt(np.sum((conversions_b - mean_b[np.newaxis, :])**2, axis=0)/(n_b - 1))\n",
    "\n",
    "sp = np.sqrt(s_a**2/n_a + s_b**2/n_b)\n",
    "sp_null = np.sqrt(s_a**2/n_a + s_b_null**2/n_b)\n",
    "\n",
    "if num_tails == 2:\n",
    "    t = abs(mean_b - mean_a) / sp # two-tailed\n",
    "    t_null = abs(mean_b_null - mean_a) / sp_null # two-tailed\n",
    "    results = t > Z975  # two-tailed\n",
    "    results_null = t_null > Z975  # two-tailed\n",
    "else:\n",
    "    t = (mean_b - mean_a) / sp # one-tailed\n",
    "    t_null = (mean_b_null - mean_a) / sp_null # one-tailed\n",
    "    results = t > Z95 # one-tailed\n",
    "    results_null = t_null > Z95 # one-tailed\n",
    "\n",
    "false_negative_rate = 1 - np.sum(results).astype('float')/len(results)\n",
    "false_positive_rate = np.sum(results_null).astype('float')/len(results_null)\n",
    "\n",
    "print false_negative_rate, \"false negative rate, we expect it to be close to 20%\"\n",
    "print false_positive_rate, \"false positive rate, we expect it to be close to 5%\""
   ]
  },
  {
   "cell_type": "markdown",
   "metadata": {},
   "source": [
    "Plot the results:"
   ]
  },
  {
   "cell_type": "code",
   "execution_count": 5,
   "metadata": {
    "collapsed": false
   },
   "outputs": [
    {
     "data": {
      "text/plain": [
       "<matplotlib.text.Text at 0x7f2296af7e50>"
      ]
     },
     "execution_count": 5,
     "metadata": {},
     "output_type": "execute_result"
    },
    {
     "data": {
      "image/png": "[encoded data removed]",
      "text/plain": [
       "<matplotlib.figure.Figure at 0x7f229734a3d0>"
      ]
     },
     "metadata": {},
     "output_type": "display_data"
    }
   ],
   "source": [
    "fig = plt.figure()\n",
    "ax = fig.add_subplot(111)\n",
    "\n",
    "n, bins, p = ax.hist(mean_b - mean_a, np.linspace(-.04, .06, 88), color=[.8, .8, 1])\n",
    "n, bins, p = ax.hist(mean_b_null - mean_a, bins, color=[1, .8, .8])\n",
    "\n",
    "n, bins, p = ax.hist(mean_b[results==False] - mean_a[results==False], bins, color='b', alpha=.6)\n",
    "n, bins, p = ax.hist(mean_b_null[results_null] - mean_a[results_null], bins, color='r', alpha=.6)\n",
    "\n",
    "ax.text(-.02, 600, 'Null true', color='r')\n",
    "ax.text(.03, 500, 'Minimum true effect size', color='b')\n",
    "\n",
    "ax.text(.016, 300, str(round(false_negative_rate*100))+\"% false negatives\", color='b')\n",
    "ax.text(.016, 100, str(round(false_positive_rate*100))+\"% false positives\", color='r')"
   ]
  },
  {
   "cell_type": "code",
   "execution_count": null,
   "metadata": {
    "collapsed": true
   },
   "outputs": [],
   "source": []
  }
 ],
 "metadata": {
  "kernelspec": {
   "display_name": "Python 2",
   "language": "python",
   "name": "python2"
  },
  "language_info": {
   "codemirror_mode": {
    "name": "ipython",
    "version": 2
   },
   "file_extension": ".py",
   "mimetype": "text/x-python",
   "name": "python",
   "nbconvert_exporter": "python",
   "pygments_lexer": "ipython2",
   "version": "2.7.12"
  }
 },
 "nbformat": 4,
 "nbformat_minor": 1
}
