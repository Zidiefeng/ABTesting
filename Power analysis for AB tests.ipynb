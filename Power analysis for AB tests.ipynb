{
 "cells": [
  {
   "cell_type": "code",
   "execution_count": 3,
   "metadata": {
    "tags": []
   },
   "outputs": [],
   "source": [
    "#!/usr/bin/env python\n",
    "%matplotlib inline"
   ]
  },
  {
   "cell_type": "markdown",
   "metadata": {},
   "source": [
    "## A/B testing design\n",
    "\n",
    "Before running an A/B test to compare a new website design (labeled the B design) to the existing design (labeled A), it is a good idea to determine how many users will be needed to evaluate if the new design performs better than the old one. The t-test is an effective statistical tool to evaulate significance once the experiment is over, and there are many online tutorials explaining how to use it. I didn't find a comparable resource explaining the calculation of sample sizes, so I put together this notebook to demonstrate the (simple) steps.\n",
    "\n",
    "### Calculating necessary sample sizes given\n",
    "   \n",
    "   - null hypothesis\n",
    "   - expected effect size\n",
    "   - false positive rate\n",
    "   - false negative rate.\n",
    "First, we'll import the usual Python mondules:"
   ]
  },
  {
   "cell_type": "code",
   "execution_count": 4,
   "metadata": {
    "tags": []
   },
   "outputs": [],
   "source": [
    "import numpy as np\n",
    "import matplotlib.pyplot as plt\n",
    "plt.ion()\n",
    "import scipy.stats"
   ]
  },
  {
   "cell_type": "markdown",
   "metadata": {},
   "source": [
    "### Experiment Settings \n",
    "\n",
    "#### 1. original CTR, effective increase"
   ]
  },
  {
   "cell_type": "markdown",
   "metadata": {
    "tags": []
   },
   "source": [
    "Now, I'll enter some numbers to make the discussion more concrete. Imagine we have a click through rate of 5% with the original design. Call this p_a for probability(A). Suppose in addition that we decide that the click through rate must increase to at least 7% to make changing the design worthwhile. Call this p_b. Finally, we'll calculate the average click through rate, p, assuming that our sample sizes will be equal.\n",
    "\n",
    "- p(a): a click through rate of 5% with the original design\n",
    "- p(b): the click through rate must increase to 7%\n",
    "- p: avergae CTR rate given the equal sample size"
   ]
  },
  {
   "cell_type": "code",
   "execution_count": 5,
   "metadata": {
    "tags": []
   },
   "outputs": [
    {
     "data": {
      "text/plain": [
       "0.06"
      ]
     },
     "execution_count": 5,
     "metadata": {},
     "output_type": "execute_result"
    }
   ],
   "source": [
    "p_a = .05 # assume we have a base click rate of 5% for our original design (A group)\n",
    "p_b = .07 # we want to detect an increase in click rate to 7%, otherwise not worth changing the design\n",
    "\n",
    "p = (p_a + p_b)/2.\n",
    "round(p,2)"
   ]
  },
  {
   "cell_type": "markdown",
   "metadata": {},
   "source": [
    "#### 2. FP rate, FN rate"
   ]
  },
  {
   "cell_type": "markdown",
   "metadata": {},
   "source": [
    "In addition to these two values, we'll need to decide on false positive and false negative rates. We can use these to look up values from the Normal distribution (results are labeled Z below). Here we chose 5% false positive rate (also called Type I error rate) and 80% power, equivalent to a 20% false negative rate (or Type II error rate). These rates are fairly standard, but completely arbitrary. These choices mean that we expect to falsely say that B is an improvement 5% of the time when actually it is no better than A, and we expect to falsely say B is *not* and improvement 20% of the time when actually it is better than A.\n",
    "- Type I: FP rate (Type I Error Rate) = 5% \n",
    "\n",
    "    Falsely say that B is an improvement 5% of the time when actually it is no better than A\n",
    "- Type II: FN rate (Type II Error Rate, 1-power) = 20%\n",
    "\n",
    "    Falsely say B is *not* an improvement 20% of the time when actually it is better than A."
   ]
  },
  {
   "cell_type": "markdown",
   "metadata": {},
   "source": [
    "#### 3. One tail test\n",
    "\n",
    "Only cares if the CTR increased after the change:"
   ]
  },
  {
   "cell_type": "code",
   "execution_count": 6,
   "metadata": {},
   "outputs": [],
   "source": [
    "num_tails = 1"
   ]
  },
  {
   "cell_type": "markdown",
   "metadata": {},
   "source": [
    "### Calculate Sample Size"
   ]
  },
  {
   "cell_type": "markdown",
   "metadata": {},
   "source": [
    "**Effective Size**\n",
    "\n",
    "$ ES =\\frac{|p(b)-p(a)|}{\\sqrt{p*(1-p)}} =\\frac{|0.07-0.05|}{\\sqrt{0.06*(1-0.06)}} $"
   ]
  },
  {
   "cell_type": "markdown",
   "metadata": {},
   "source": [
    "**Sample Size**\n",
    "- One-tailed: $ n = 2*(\\frac{Z_{95}+Z_8}{ES})^2 = 1743$\n",
    "- Two-tailed: $ n = 2*(\\frac{Z_{975}+Z_8}{ES})^2 = 2213$"
   ]
  },
  {
   "cell_type": "markdown",
   "metadata": {},
   "source": [
    "Ref: https://www.itl.nist.gov/div898/handbook/prc/section2/prc222.htm"
   ]
  },
  {
   "cell_type": "code",
   "execution_count": 7,
   "metadata": {
    "collapsed": false,
    "jupyter": {
     "outputs_hidden": false
    }
   },
   "outputs": [
    {
     "name": "stdout",
     "output_type": "stream",
     "text": [
      "You need 1743 samples in each group to get a 5% false positive and 20% false negative rate given effect size\n"
     ]
    }
   ],
   "source": [
    "Z8 = scipy.stats.norm.ppf(.8) # 0.84, we will need this to ensure 80% power (20% false negative rate)\n",
    "Z95 = scipy.stats.norm.ppf(1 - .05) # 1.64 we will need this for 5% false positive rate (95% confidence level), one-tailed\n",
    "Z975 = scipy.stats.norm.ppf(1 - .025) # 1.96 5% false positive rate for two-tailed case\n",
    "\n",
    "ES = abs(p_b - p_a)/np.sqrt(p*(1-p))\n",
    "\n",
    "if num_tails == 2:\n",
    "    n = 2*((Z975 + Z8)/ES)**2  # two-tailed\n",
    "else:\n",
    "    n = 2*((Z95 + Z8)/ES)**2 # one-tailed\n",
    "\n",
    "print(f\"You need {round(n)} samples in each group to get a 5% false positive and 20% false negative rate given effect size\")"
   ]
  },
  {
   "cell_type": "markdown",
   "metadata": {},
   "source": [
    "That's it! We have the sample sizes necessary given our requirements. In this case, we need about 1743 people to experience the A design and 1743 people to experience the B design."
   ]
  },
  {
   "cell_type": "markdown",
   "metadata": {},
   "source": [
    "## Simulation Test"
   ]
  },
  {
   "cell_type": "markdown",
   "metadata": {},
   "source": [
    "Let's convince ourselves that we actually meet our specs by simulating two experimental results. In one experiment the B design results in a minimal improvement (to 7% click rate). In the other (labeled null) there is no change in the click rate."
   ]
  },
  {
   "cell_type": "markdown",
   "metadata": {},
   "source": [
    "**Design**\n",
    "\n",
    "1. For `10000` experiments(each with `1743` samples), simulate conversion results for: `(1743, 10000)`, `([[T,F,T,T...],]）`\n",
    "    - Experiment A according to `p(A)`\n",
    "    - Experiment B according to `p(B)`\n",
    "    - Experiment B with $ N_0 $ (using `p(A)` to simulate)\n",
    "2. Calculate conversion rate for each experiment (mean): `(10000,)`\n",
    "    - Experiment A\n",
    "    - Experiment B\n",
    "    - Experiment B with $ N_0 $ "
   ]
  },
  {
   "cell_type": "code",
   "execution_count": 8,
   "metadata": {},
   "outputs": [],
   "source": [
    "n_a = int(round(n))\n",
    "n_b = int(round(n))\n",
    "\n",
    "num_experiments = 10000\n",
    "\n",
    "# n_b = n_a = 1743\n",
    "conversions_a = np.random.random((n_a, num_experiments)) < p_a\n",
    "conversions_b_null = np.random.random((n_b, num_experiments)) < p_a\n",
    "conversions_b = np.random.random((n_b, num_experiments)) < p_b\n",
    "\n",
    "mean_a = np.mean(conversions_a, axis=0)\n",
    "mean_b_null = np.mean(conversions_b_null, axis=0)\n",
    "mean_b = np.mean(conversions_b, axis=0)"
   ]
  },
  {
   "cell_type": "markdown",
   "metadata": {},
   "source": [
    "3. Calculate the standard deviation of each experiment: `(10000,)`\n",
    "    - Experiment A\n",
    "    - Experiment B\n",
    "    - Experiment B with $ N_0 $ \n",
    "4. Calculate the standard deviation: \n",
    "    - $ SD =  \\sqrt{\\frac{sd_A^2}{n_A}+\\frac{sd_B^2}{n_B}} $\n",
    "    - $ SD_{null} =  \\sqrt{\\frac{sd_A^2}{n_A}+\\frac{sd_{B\\_null}^2}{n_{_{B\\_null}}}} $"
   ]
  },
  {
   "cell_type": "code",
   "execution_count": 9,
   "metadata": {
    "tags": []
   },
   "outputs": [],
   "source": [
    "#s_a = np.std(conversions_a, ddof=1)\n",
    "#s_b_null = np.std(conversions_b_null, ddof=1)\n",
    "#s_b = np.std(conversions_b, ddof=1)\n",
    "\n",
    "# equivalent:\n",
    "s_a = np.sqrt(np.sum((conversions_a - mean_a[np.newaxis, :])**2, axis=0)/(n_a - 1))\n",
    "s_b_null = np.sqrt(np.sum((conversions_b_null - mean_b_null[np.newaxis, :])**2, axis=0)/(n_b - 1))\n",
    "s_b = np.sqrt(np.sum((conversions_b - mean_b[np.newaxis, :])**2, axis=0)/(n_b - 1))\n",
    "\n",
    "sp = np.sqrt(s_a**2/n_a + s_b**2/n_b)\n",
    "sp_null = np.sqrt(s_a**2/n_a + s_b_null**2/n_b)\n"
   ]
  },
  {
   "cell_type": "markdown",
   "metadata": {},
   "source": [
    "5. Calculate the t test result\n",
    "    - One-tailed: \n",
    "        - Experiment B: $ t = \\frac{|\\bar{b}-\\bar{a}|}{SD} $\n",
    "        - Null B: $ t_{null} = \\frac{|\\bar{b_{null}}-\\bar{a}|}{SD_{null}} $\n",
    "        - Results = $ t > Z_{0.95}$\n",
    "        - Null Results = $ t_{null} > Z_{0.95}$\n",
    "    - Two-tailed:\n",
    "        - Experiment B: $ t = \\frac{|\\bar{b}-\\bar{a}|}{SD} $\n",
    "        - Null B: $ t_{null} = \\frac{|\\bar{b_{null}}-\\bar{a}|}{SD_{null}} $\n",
    "        - Results = $ t > Z_{0.975}$\n",
    "        - Null Results = $ t_{null} > Z_{0.975}$"
   ]
  },
  {
   "cell_type": "markdown",
   "metadata": {},
   "source": [
    "6. Calculate error rate:\n",
    "    - FN rate = 1 - results rate\n",
    "    - FP rate = null rseults rate "
   ]
  },
  {
   "cell_type": "code",
   "execution_count": 10,
   "metadata": {},
   "outputs": [
    {
     "name": "stdout",
     "output_type": "stream",
     "text": [
      "0.1961 false negative rate, we expect it to be close to 20%\n",
      "0.0486 false positive rate, we expect it to be close to 5%\n"
     ]
    }
   ],
   "source": [
    "if num_tails == 2:\n",
    "    t = abs(mean_b - mean_a) / sp # two-tailed\n",
    "    t_null = abs(mean_b_null - mean_a) / sp_null # two-tailed\n",
    "    results = t > Z975  # two-tailed\n",
    "    results_null = t_null > Z975  # two-tailed\n",
    "else:\n",
    "    t = (mean_b - mean_a) / sp # one-tailed\n",
    "    t_null = (mean_b_null - mean_a) / sp_null # one-tailed\n",
    "    results = t > Z95 # one-tailed\n",
    "    results_null = t_null > Z95 # one-tailed\n",
    "\n",
    "false_negative_rate = 1 - np.sum(results).astype('float')/len(results)\n",
    "false_positive_rate = np.sum(results_null).astype('float')/len(results_null)\n",
    "\n",
    "print(f\"{round(false_negative_rate,4)} false negative rate, we expect it to be close to 20%\")\n",
    "print(f\"{round(false_positive_rate,4)} false positive rate, we expect it to be close to 5%\")"
   ]
  },
  {
   "cell_type": "markdown",
   "metadata": {},
   "source": [
    "#### Plot"
   ]
  },
  {
   "cell_type": "markdown",
   "metadata": {},
   "source": [
    "And finally, I'll plot the results of the simulated experiments:"
   ]
  },
  {
   "cell_type": "code",
   "execution_count": 11,
   "metadata": {
    "collapsed": false,
    "jupyter": {
     "outputs_hidden": false
    }
   },
   "outputs": [
    {
     "data": {
      "text/plain": [
       "Text(0.016, 100, '5% false positives')"
      ]
     },
     "execution_count": 11,
     "metadata": {},
     "output_type": "execute_result"
    },
    {
     "data": {
      "image/png": "[encoded data removed]",
      "text/plain": [
       "<Figure size 432x288 with 1 Axes>"
      ]
     },
     "metadata": {
      "needs_background": "light"
     },
     "output_type": "display_data"
    }
   ],
   "source": [
    "fig = plt.figure()\n",
    "ax = fig.add_subplot(111)\n",
    "\n",
    "n, bins, p = ax.hist(mean_b - mean_a, np.linspace(-.04, .06, 88), color=[.8, .8, 1])\n",
    "n, bins, p = ax.hist(mean_b_null - mean_a, bins, color=[1, .8, .8])\n",
    "\n",
    "n, bins, p = ax.hist(mean_b[results==False] - mean_a[results==False], bins, color='b', alpha=.6)\n",
    "n, bins, p = ax.hist(mean_b_null[results_null] - mean_a[results_null], bins, color='r', alpha=.6)\n",
    "\n",
    "ax.text(-.02, 600, 'Null true', color='r')\n",
    "ax.text(.03, 500, 'Minimum true effect size', color='b')\n",
    "\n",
    "ax.text(.016, 300, str(round(false_negative_rate*100))+\"% false negatives\", color='b')\n",
    "ax.text(.016, 100, str(round(false_positive_rate*100))+\"% false positives\", color='r')"
   ]
  },
  {
   "cell_type": "markdown",
   "metadata": {},
   "source": [
    "We can see that we achieve exactly the false positive and false negative rates we set out for in the two different simuluated experiments."
   ]
  }
 ],
 "metadata": {
  "kernelspec": {
   "display_name": "Python (myenv)",
   "language": "python",
   "name": "myenv"
  },
  "language_info": {
   "codemirror_mode": {
    "name": "ipython",
    "version": 3
   },
   "file_extension": ".py",
   "mimetype": "text/x-python",
   "name": "python",
   "nbconvert_exporter": "python",
   "pygments_lexer": "ipython3",
   "version": "3.6.8"
  }
 },
 "nbformat": 4,
 "nbformat_minor": 4
}
